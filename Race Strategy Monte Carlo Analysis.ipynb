## Data Exploration & Aggregation
# In[1]:
# Load CSV – Read + quick peek
import pandas as pd
# Path file
df = pd.read_csv("/home/vittof1/workspace/python-pro-sprint/data/processed/Bahrain_2025_R_processed.csv")
df.head()

# Out[1]:
# (DataFrame preview – 5 rows × 36 columns)


# In[2]:
# Aggregate by Compound — Average lap times
# Average lap times (s) per compound
compound_mean = df.groupby(["Compound"])["LapTimeSeconds"].mean()
print(compound_mean)

# Out[2]:
Compound
HARD     101.833248
MEDIUM   100.543125
SOFT     100.483722
Name: LapTimeSeconds, dtype: float64


# In[3]:
# Aggregate by Stint — Lap counting
# Lap count per driver/stint
laps_per_stint = df.groupby(["Driver", "Stint"]).size()
print(laps_per_stint)

# Out[3]:
 Driver  Stint
 ALB     1.0       16
         2.0       16
 ALO     1.0       16
         2.0       16
 TSU     2.0       21
 VER     1.0       10
         2.0       25
         3.0       31
# Length: 62, dtype: int64



## Tyre Degradation Modeling
# In[4]:
# Write deg_params.yaml
from pathlib import Path
import json
import yaml

# Tire degradation model
# Lap time is expressed as: lap_time = base + a*sqrt(laps) + b*laps
# where:
# - base = baseline lap time
# - a = coefficient for non-linear degradation (square root term)
# - b = coefficient for linear degradation (per lap)

# Dictionary containing the degradation parameters for each tire compound
deg_params = {
    "Soft": {"a": 0.05, "b": 0.01},
    "Medium": {"a": 0.03, "b": 0.008},
    "Hard": {"a": 0.02, "b": 0.005}
}

# Output path
output_file = Path("fastf1-toolbox/inputs/deg_params.yaml")

# Ensure that the parent directory exists; create it if necessary
output_file.parent.mkdir(exist_ok=True, parents=True)

# Write the degradation parameters dictionary to the YAML file
with open(output_file, 'w') as f:
    yaml.safe_dump(
        deg_params,
        f,
        sort_keys=True,        # Keep keys sorted for readability
        indent=2,              # Indentation for a clean structure
        default_flow_style=False # Use block style (more human-readable)
    )

# Out[4]:
# File: deg_params.yaml
Hard:
  a: 0.02
  b: 0.005
Medium:
  a: 0.03
  b: 0.008
Soft:
  a: 0.05
  b: 0.01


# In[5]:
# Theoretical Tyre degradation model
import numpy as np

# Function: Compute the lap time for a given tire compound and lap number within a stint.
def tyre_lap_time(compound, lap_in_stint):
    base = 90 # Baseline lap time in seconds

    # Soft compound case
    if compound == "Soft":
        A = deg_params["Soft"]["a"]     # Extract non-linear degradation parameter
        B = deg_params["Soft"]["b"]     # Extract linear degradation parameter
        lap_time = base + A * np.sqrt(lap_in_stint) + B * lap_in_stint
        return A, B, lap_time

    # Medium compound case
    if compound == "Medium":
        A = deg_params["Medium"]["a"]
        B = deg_params["Medium"]["b"]
        lap_time = base + A * np.sqrt(lap_in_stint) + B * lap_in_stint
        return A, B, lap_time

    # Hard compound case
    if compound == "Hard":
        A = deg_params["Hard"]["a"]
        B = deg_params["Hard"]["b"]
        lap_time = base + A * np.sqrt(lap_in_stint) + B * lap_in_stint
        return A, B, lap_time

# Example usage:
# Compute lap time for the Soft compound on lap 13 of the stint
print(tyre_lap_time("Soft", 13))

# Out[5]:
(0.05, 0.01, 90.3102776537732)


# In[6]:
# Degradation curves
import matplotlib.pyplot as plt
import numpy as np

# Data for plotting
t = np.arange(0, 26) 
# Create an array representing the laps within a stint (0 to 25).
# 26 is chosen because it approximates the average stint length across the three compounds for all drivers

# Compute lap times for each compound by extracting the 3rd return value (lap_time) from tyre_lap_time()
time_soft = [tyre_lap_time("Soft", lap)[2] for lap in t]
time_medium = [tyre_lap_time("Medium", lap)[2] for lap in t]
time_hard = [tyre_lap_time("Hard", lap)[2] for lap in t]

# Block: Create the figure with 3 subplots (stacked vertically)
fig, ax = plt.subplots(3, 1, figsize=(18, 16))

# 1) Soft compound degradation curve
ax[0].plot(t, time_soft)
ax[0].set_xlabel("Lap in Stint")
ax[0].set_ylabel("Lap Time(s)")
ax[0].set_title("Soft Compound Degradation Curve")

# 2) Medium compound degradation curve
ax[1].plot(t, time_medium)
ax[1].set_xlabel("Lap in Stint")
ax[1].set_ylabel("Lap Time(s)")
ax[1].set_title("Medium Compound Degradation Curve")

# 3) Hard compound degradation curve
ax[2].plot(t, time_hard)
ax[2].set_xlabel("Lap in Stint")
ax[2].set_ylabel("Lap Time(s)")
ax[2].set_title("Hard Compound Degradation Curve")

# Adjust spacing between plots to avoid overlapping titles/labels
plt.tight_layout()

# Save the figure to file for later use in reports or dashboards
fig.savefig("tyre_degradation_plot.png")

# Display the plots interactively
plt.show()

# Out[6]:
Check 'Tyre_Degradation_Plot.png' file



## Strategy Simulation & Monte Carlo Analysis
# In[7]:
# Function: Simulate the total time (in seconds) of a stint with a given tire compound
def simulate_stint(compound, laps):
    total_time = 0.0  # accumulator for the total stint time

    # Loop over each lap in the stint
    for lap_idx in range(laps):
        # The 3rd element ([2]) of 'tyre_lap_time' function corresponds to the lap time in seconds.
        laptime = tyre_lap_time(compound, lap_idx)[2]
        # Add current lap time to the cumulative total
        total_time += laptime
    return total_time  # total time (in seconds) for the full stint


# Example usage: simulate 3 laps on Soft tires
print(simulate_stint("Soft", 3))


# Out[7]:
270.1507106781187


# In[8]:
# Monte Carlo Strategies
import numpy as np

# Function: Monte Carlo simulation for a 1-stop strategy: Soft → Medium.
# The driver starts on Soft tires, pits randomly between laps 12–15,
# then finishes the race on Mediums. The full race length is 57 laps
def run_monte_carlo_soft_medium():
    final_times = []
    n = 0
    while n < 10000:
        # Sample the pit stop lap uniformly between 12 and 15 inclusive
        lap_pit = np.random.randint(12, 16)

        # Remaining laps after the pit stop
        remain_laps = 57 - lap_pit

        # Simulate first stint on Soft, then Medium
        s = simulate_stint("Soft", lap_pit)
        m = simulate_stint("Medium", remain_laps)

        # Total race time = sum of stints
        total_times = s + m

        # Store result for this simulation
        final_times.append(total_times)
        n += 1

    return final_times  # List of total race times (in seconds) for 10,000 simulated races


# Function: Monte Carlo simulation for a 1-stop strategy: Soft → Hard
# The driver starts on Soft tires, pits randomly between laps 10–11,
# then finishes the race on Hards. The full race length is 57 laps
def run_monte_carlo_soft_hard():
    final_times = []
    n = 0
    while n < 10000:
        # Pit stop lap sampled uniformly between 10 and 11 inclusive
        lap_pit = np.random.randint(10, 12)
        remain_laps = 57 - lap_pit

        s = simulate_stint("Soft", lap_pit)
        h = simulate_stint("Hard", remain_laps)
        total_times = s + h

        final_times.append(total_times)
        n += 1

    return final_times


# Function: Monte Carlo simulation for a 1-stop strategy: Medium → Hard.
# The driver starts on Medium tires, pits randomly between laps 15–19,
# then finishes the race on Hards. The full race length is 57 laps
def run_monte_carlo_medium_hard():
    final_times = []
    n = 0
    while n < 10000:
        # Pit stop lap sampled uniformly between 15 and 19 inclusive
        lap_pit = np.random.randint(15, 20)
        remain_laps = 57 - lap_pit

        m = simulate_stint("Medium", lap_pit)
        h = simulate_stint("Hard", remain_laps)
        total_times = m + h

        final_times.append(total_times)
        n += 1

    return final_times


# In[9]:
# Monte Carlo Strategy Histograms
import seaborn as sns
import matplotlib.pyplot as plt

# Block: Histograms
# 1) Histogram: Soft → Medium strategy
A = sns.histplot(run_monte_carlo_soft_medium(), bins=70, color="blue")
A.set_xlabel("Race Time (s)")      # X-axis: total race time in seconds
A.set_ylabel("Frequency")          # Y-axis: how many simulations fall in each bin
A.set_title("Monte Carlo Simulation – Soft → Medium Strategy")
plt.savefig("M.C.Simulation – Soft → Medium Strategy.png")
plt.show()

# 2) Histogram: Soft → Hard strategy
B = sns.histplot(run_monte_carlo_soft_hard(), bins=70, color="green")
B.set_xlabel("Race Time (s)")
B.set_ylabel("Frequency")
B.set_title("Monte Carlo Simulation – Soft → Hard Strategy")
plt.savefig("M.C.Simulation – Soft → Hard Strategy.png")
plt.show()

# 3) Histogram: Medium → Hard strategy
C = sns.histplot(run_monte_carlo_medium_hard(), bins=70, color="yellow")
C.set_xlabel("Race Time (s)")
C.set_ylabel("Frequency")
C.set_title("Monte Carlo Simulation – Medium → Hard Strategy")
plt.savefig("M.C.Simulation – Medium → Hard Strategy.png")
plt.show()


# Out[9]:
Check 'M.C.Simulation - Soft → Medium / Soft → Hard / Medium → Hard Strategy.png'



##Safety Car Dynamics & Race Simulation
# In[10]:
# Safety Car Simulation with Fixed Probability.
import numpy as np
import random

# Function: Scan race laps 10–40 and probabilistically insert
# Safety Car periods. If triggered, the Safety Car lasts
# a random duration between 1 and 5 laps
def Safety_Car_Probability():
    SC_laps = []             # list of all laps affected by a Safety Car
    p = 0.05                 # fixed probability of SC deployment on each lap
    i = 10                   # start lap for SC checks

    # Check laps 10–40 (typical race window for SC modeling)
    while i <= 40:
        # Draw a random float in [0, 1]; if below p, SC is triggered
        if np.random.rand() < p:
            # Random duration of SC: 1 to 5 laps
            n = np.random.randint(1, 6)

            # Ensure SC does not extend beyond lap 40
            last = min(i + n - 1, 40)

            # Create list of laps affected by this SC period
            L = range(i, last + 1)

            # Add these laps to the global SC list
            SC_laps.extend(L)

            # Jump index to the lap immediately after the SC ends
            i = last + 1
        else:
            # If no SC, simply move to the next lap
            i += 1

    # Remove duplicates (set), sort laps, and return
    return sorted(set(SC_laps))

# Example usage
print(Safety_Car_Probability())

# Out[10]:
# [19, 20, 21, 22]


# In[11]:
# Race Time Simulation with Pit-Stop Penalty and Safety Car Dynamics.
# Function: Compute the total race time (in seconds) for a full Grand Prix,
# incorporating both pit-stop penalty and Safety Car slowdowns.
def simulate_race_SC():
    # Randomly choose the lap for the single pit stop (Soft → Medium strategy)
    lap_pit = np.random.randint(12, 16)

    # Generate the list of laps under Safety Car conditions
    SC_laps = Safety_Car_Probability()

    # Initialize total race time accumulator
    race_time = 0.0
    lap = 1    # lap counter starts at 1

    # Loop over all 57 race laps
    while lap < 58:
        if lap <= lap_pit:
            # Before the pit stop → running on Soft tires
            compound = "Soft"
            lap_time = tyre_lap_time(compound, lap - 1)[2]
        else:
            # After the pit stop → running on Medium tires
            # Offset lap index by pit-stop lap count
            compound = "Medium"
            lap_time = tyre_lap_time(compound, (lap - lap_pit) - 1)[2]

        # Apply pit-stop penalty on the pit lap (+22 seconds fixed)
        if lap == lap_pit:
            lap_time += 22.0

        # Apply Safety Car slowdown (30% longer lap time) if active
        if lap in SC_laps:
            lap_time *= 1.3

        # Accumulate lap time into the race total
        race_time += lap_time
        lap += 1  # move to the next lap

    return race_time

# Example usage
print(simulate_race_SC())

# Out[11]:
# 5248.765327774271


# In[12]:
# Monte Carlo Simulation with Safety Car (Soft → Medium strategy)
import numpy as np

# Function: Perform a Monte Carlo simulation of race outcomes for a 1-stop Soft–Medium strategy,
# including Safety Car events.
def run_monte_carlo_soft_medium_SC():
    final_times_with_SC = []  # store the results of all simulated race times
    n = 0

    # Run 10,000 independent simulations
    while n < 10000:
        race_time_with_SC = simulate_race_SC()  # total race time with SC included
        final_times_with_SC.append(race_time_with_SC)
        n += 1

    return final_times_with_SC

# Example usage
D = run_monte_carlo_soft_medium_SC()
print(D[:10])

# Out[12]:
# [5167.7999535801809, 5356.773755851983, 5248.857149964518, 5302.583049776355, 5309.53442111374, 5248.3406453036035, 5167.108378029955, 5336.202657029955, 5249.00137108266, 5248.616776068049]



## Monte Carlo Visualization
# In[13]:
# Race Strategy Visualization
import seaborn as sns
import matplotlib.pyplot as plt

# Block: Histograms
# 1) Histogram of Monte Carlo simulations for the Soft → Medium strategy
# Run 10,000 simulations with run_monte_carlo_soft_medium function, then plot distribution of total race times
A = sns.histplot(run_monte_carlo_soft_medium(), bins=70, color="blue")
A.set_xlabel("Race Time (s)")      # X-axis: total race time in seconds
A.set_ylabel("Frequency")          # Y-axis: how many simulations fall in each bin
A.set_title("Monte Carlo Simulation – Soft → Medium Strategy")
plt.savefig("M.C.Simulation – Soft → Medium Strategy.png")  # Save the histogram as a PNG file
plt.show()  # Display histogram interactively

# 2) Histogram of Monte Carlo simulations with Safety Car
# Run 10,000 simulations with run_monte_carlo_soft_medium_SC function, then plot distribution of total race times
B = sns.histplot(run_monte_carlo_soft_medium_SC(), bins=70, color="green")
B.set_xlabel("Race Time (s)")      # X-axis: total race time in seconds
B.set_ylabel("Frequency")          # Y-axis: how many simulations fall in each bin
B.set_title("Monte Carlo Simulation with SC – Soft → Medium Strategy")
plt.savefig("M.C.Simulation with SC – Soft → Medium Strategy.png")  # Save plot with SC
plt.show()  # Display histogram interactively

# Out[13]:
# Check 'M.C.Simulation – Soft → Medium Strategy.png' and 'M.C.Simulation with SC – Soft → Medium Strategy.png' files  

